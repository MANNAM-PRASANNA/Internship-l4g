{
 "cells": [
  {
   "cell_type": "markdown",
   "metadata": {},
   "source": [
    "1. Function to validate a phone number\n",
    "    - def phoneValidator(number)\n",
    "    - start with 6-9 followed by 9 digits\n",
    "    - +91-(10 digits)"
   ]
  },
  {
   "cell_type": "code",
   "execution_count": 1,
   "metadata": {},
   "outputs": [
    {
     "data": {
      "text/plain": [
       "'+91 9848919058'"
      ]
     },
     "execution_count": 1,
     "metadata": {},
     "output_type": "execute_result"
    }
   ],
   "source": [
    "import re\n",
    "def phoneValidator(num):\n",
    "    if re.match('^(?:\\s+|)(0|(?:(\\+|)91))(?:\\s|-)*\\d{10}',num):\n",
    "        return num\n",
    "    elif re.match('^(?:\\s+|)\\d{10}(?:\\s+|)',num):\n",
    "        return num\n",
    "    return 0\n",
    "\n",
    "phoneValidator('+91 9848919058')"
   ]
  },
  {
   "cell_type": "markdown",
   "metadata": {},
   "source": [
    "2. Function to validate email id\n",
    "    - def emailValidator(email):\n",
    "    - username\n",
    "        - Length of username : [6,15]\n",
    "        - No special characters other than _ .\n",
    "        - Should not begin and end with _ .\n",
    "        - Character Set : all digits and lower case alphabet _.\n",
    "    - domain\n",
    "        - Length of domain : [3, 18]\n",
    "        - No special characters\n",
    "        - Character Set : all digits and lower case alphabet\n",
    "    - extension\n",
    "        - Length of extension : [2, 4]\n",
    "        - No special characters\n",
    "        - Character Set : lower case alphabet\n"
   ]
  },
  {
   "cell_type": "code",
   "execution_count": 26,
   "metadata": {},
   "outputs": [
    {
     "data": {
      "text/plain": [
       "<re.Match object; span=(0, 20), match='sai_mannam@gmail.com'>"
      ]
     },
     "execution_count": 26,
     "metadata": {},
     "output_type": "execute_result"
    }
   ],
   "source": [
    "import re\n",
    "def emailValidator(email):\n",
    "    return (re.match(\"^[a-zA-Z1-9._]{6,15}[@][a-z1-9]{3,18}[.][a-z]{2,4}$\",email) \n",
    "            or re.match('^[a-zA-Z1-9._]{6,15}[@][a-z1-9]{3,18}[.][a-z]{2,4}[.][a-z]{2,4}$',email))\n",
    "\n",
    "emailValidator('sai_mannam@gmail.com')"
   ]
  },
  {
   "cell_type": "markdown",
   "metadata": {},
   "source": [
    "3. Function to validate a url\n",
    "\n",
    "    - [h][t][t][p][s]? => checks for http or https\n",
    "    - '+'              => one or more preceeding token\n",
    "    - \\w               => checks for alphanumeric words"
   ]
  },
  {
   "cell_type": "code",
   "execution_count": 5,
   "metadata": {},
   "outputs": [
    {
     "data": {
      "text/plain": [
       "<re.Match object; span=(0, 23), match='https://docs.google.com'>"
      ]
     },
     "execution_count": 5,
     "metadata": {},
     "output_type": "execute_result"
    }
   ],
   "source": [
    "def urlValidator(url):\n",
    "    return re.match(\"^[h][t][t][p][s]?:\\/\\/([w]{3}|[a-z]{3,6})[.][\\w+]+[.][\\w+]*\",url)\n",
    "\n",
    "urlValidator('https://www.coursera.org')\n",
    "urlValidator('http://www.regexpal.com')\n",
    "urlValidator('https://docs.google.com')"
   ]
  },
  {
   "cell_type": "markdown",
   "metadata": {},
   "source": [
    "4. Password Validation\n",
    "    - Minimum 6 characters\n",
    "    - should contain a-z ,1-9,special charater(space not allowed)\n",
    "    - sould contain atlease on uppercase letter and one numerical value and one special characters\n",
    "    - max length 18 characters\n",
    "    \n",
    "    \n",
    " -  '.'              => does not allow space\\\n",
    " -  ?=     => check if it is after something\n",
    " - eg.,  ?=xyz -------->it check xyz is in upcoming letters\n",
    "    "
   ]
  },
  {
   "cell_type": "code",
   "execution_count": 68,
   "metadata": {},
   "outputs": [
    {
     "name": "stdout",
     "output_type": "stream",
     "text": [
      "<re.Match object; span=(0, 6), match='We@123'>\n"
     ]
    }
   ],
   "source": [
    "def passwordValidation(password):\n",
    "    return re.search(\"^(?=.*[A-Z])(?=.*[0-9])(?=.*[@$!%*#?&])[A-Za-z0-9@$!#%*?&]{6,18}$\",password)\n",
    "                    \n",
    "print(passwordValidation('We@123'))\n"
   ]
  },
  {
   "cell_type": "code",
   "execution_count": 31,
   "metadata": {},
   "outputs": [
    {
     "name": "stdout",
     "output_type": "stream",
     "text": [
      "<re.Match object; span=(0, 7), match='@!*&%#A'>\n"
     ]
    }
   ],
   "source": [
    "import re\n",
    "def passwordValidation(password):\n",
    "    return re.match(\"^(?=.*[0-9a-zA-Z])(?=.*[*.!@$%^&(){}[/\\]':;<>,.?\\\\~_+-=|]).{6,18}$\",password)\n",
    "# (?=.*[a-z])(?=.*[A-Z])\n",
    "print(passwordValidation('@!*&%#A'))"
   ]
  },
  {
   "cell_type": "code",
   "execution_count": 37,
   "metadata": {},
   "outputs": [
    {
     "name": "stdout",
     "output_type": "stream",
     "text": [
      "None\n"
     ]
    }
   ],
   "source": [
    "def passwordValidation(password):\n",
    "    return re.match(\"^(?=.*[a-z])(?=.*[*.!@$%^&(){}\\[/\\]':;<>,.?\\\\~_+-=|0-9A-Z]){1,18}$\",password)\n",
    "# (?=.*[a-z])(?=.*[A-Z])\n",
    "print(passwordValidation('@!*&%#Aa1'))"
   ]
  },
  {
   "cell_type": "code",
   "execution_count": null,
   "metadata": {},
   "outputs": [],
   "source": []
  }
 ],
 "metadata": {
  "kernelspec": {
   "display_name": "Python 3",
   "language": "python",
   "name": "python3"
  },
  "language_info": {
   "codemirror_mode": {
    "name": "ipython",
    "version": 3
   },
   "file_extension": ".py",
   "mimetype": "text/x-python",
   "name": "python",
   "nbconvert_exporter": "python",
   "pygments_lexer": "ipython3",
   "version": "3.7.4"
  }
 },
 "nbformat": 4,
 "nbformat_minor": 2
}
