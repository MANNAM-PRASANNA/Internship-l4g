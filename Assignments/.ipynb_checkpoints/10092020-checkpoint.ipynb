{
 "cells": [
  {
   "cell_type": "markdown",
   "metadata": {},
   "source": [
    "### File Handling \n",
    "- Character Count\n",
    "- Line Count\n",
    "- File Size\n",
    "- Word Count\n",
    "- Unique Word Count\n"
   ]
  },
  {
   "cell_type": "markdown",
   "metadata": {},
   "source": [
    "1. Character Count"
   ]
  },
  {
   "cell_type": "code",
   "execution_count": 8,
   "metadata": {},
   "outputs": [
    {
     "data": {
      "text/plain": [
       "328"
      ]
     },
     "execution_count": 8,
     "metadata": {},
     "output_type": "execute_result"
    }
   ],
   "source": [
    "def getCharacterCount(file):\n",
    "    charCount = 0\n",
    "    charCount2 = 0\n",
    "    file = open(file,'r')\n",
    "    for line in file:\n",
    "        charCount += len(line) #Including Spaces\n",
    "        charCount2 += len(line.replace(\" \",\"\")) # Excluding Spaces\n",
    "    return charCount2\n",
    "filename ='C:/Users/saipr/Desktop/Internship-l4g/Datasets/myfile' \n",
    "getCharacterCount(filename)"
   ]
  },
  {
   "cell_type": "markdown",
   "metadata": {},
   "source": [
    "2. Line Count"
   ]
  },
  {
   "cell_type": "code",
   "execution_count": 12,
   "metadata": {},
   "outputs": [
    {
     "data": {
      "text/plain": [
       "3"
      ]
     },
     "execution_count": 12,
     "metadata": {},
     "output_type": "execute_result"
    }
   ],
   "source": [
    "def getLineCount(file):\n",
    "    lineCount = 0\n",
    "    file = open(file,'r')\n",
    "    for line in file:\n",
    "        lineCount +=1\n",
    "    file.close()\n",
    "    return lineCount\n",
    "filename ='C:/Users/saipr/Desktop/Internship-l4g/Datasets/myfile'\n",
    "getLineCount(filename)"
   ]
  },
  {
   "cell_type": "markdown",
   "metadata": {},
   "source": [
    "3. File Size"
   ]
  },
  {
   "cell_type": "code",
   "execution_count": 13,
   "metadata": {},
   "outputs": [
    {
     "data": {
      "text/plain": [
       "378"
      ]
     },
     "execution_count": 13,
     "metadata": {},
     "output_type": "execute_result"
    }
   ],
   "source": [
    "import os\n",
    "def getFileSize(file):\n",
    "    file_size=os.path.getsize(file)\n",
    "    return file_size\n",
    "filename ='C:/Users/saipr/Desktop/Internship-l4g/Datasets/myfile'\n",
    "getFileSize(filename)"
   ]
  },
  {
   "cell_type": "markdown",
   "metadata": {},
   "source": [
    "4. Word Count"
   ]
  },
  {
   "cell_type": "code",
   "execution_count": 14,
   "metadata": {},
   "outputs": [
    {
     "name": "stdout",
     "output_type": "stream",
     "text": [
      "['Python', 'is', 'an', 'interpreted,', 'high-level', 'and', 'general-purpose', 'programming', 'language.']\n",
      "['Created', 'by', 'Guido', 'van', 'Rossum', 'and', 'first', 'released', 'in', '1991,', \"Python's\", 'design', 'philosophy', 'emphasizes', 'code', 'readability', 'with', 'its', 'notable', 'use', 'of', 'significant', 'whitespace.']\n",
      "['Its', 'language', 'constructs', 'and', 'object-oriented', 'approach', 'aim', 'to', 'help', 'programmers', 'write', 'clear,', 'logical', 'code', 'for', 'small', 'and', 'large-scale', 'projects.']\n"
     ]
    },
    {
     "data": {
      "text/plain": [
       "51"
      ]
     },
     "execution_count": 14,
     "metadata": {},
     "output_type": "execute_result"
    }
   ],
   "source": [
    "def getWordCount(file):\n",
    "    wordCount = 0\n",
    "    file = open(file,'r')\n",
    "    for line in file:\n",
    "        words = line.split()\n",
    "        wordCount += len(line.split())\n",
    "        print(words)\n",
    "    return wordCount\n",
    "filename ='C:/Users/saipr/Desktop/Internship-l4g/Datasets/myfile'\n",
    "getWordCount(filename)\n",
    "    "
   ]
  },
  {
   "cell_type": "markdown",
   "metadata": {},
   "source": [
    "5. Unique Word Count"
   ]
  },
  {
   "cell_type": "code",
   "execution_count": 15,
   "metadata": {},
   "outputs": [
    {
     "data": {
      "text/plain": [
       "47"
      ]
     },
     "execution_count": 15,
     "metadata": {},
     "output_type": "execute_result"
    }
   ],
   "source": [
    "def getUniqueWordCount(file):\n",
    "    words = []\n",
    "    file =open(file,'r')\n",
    "    for line in file:\n",
    "        for i in line.split():\n",
    "            words.append(i)\n",
    "#     print(words)\n",
    "    uniqueWordCount = len(set(words))\n",
    "    return uniqueWordCount\n",
    "filename ='C:/Users/saipr/Desktop/Internship-l4g/Datasets/myfile'\n",
    "getUniqueWordCount(filename)"
   ]
  },
  {
   "cell_type": "markdown",
   "metadata": {},
   "source": [
    "### Marks Analysis\n",
    "    * Class Average\n",
    "    * % of students passed\n",
    "    * % of students failed \n",
    "    * % of students with distinction\n",
    "    * Highest Mark Frequency\n",
    "    * Lowest Mark Frequency\n",
    "*  Generate a Marks report\n"
   ]
  },
  {
   "cell_type": "code",
   "execution_count": 17,
   "metadata": {},
   "outputs": [
    {
     "data": {
      "text/plain": [
       "49.416666666666664"
      ]
     },
     "execution_count": 17,
     "metadata": {},
     "output_type": "execute_result"
    }
   ],
   "source": [
    "def getClassAverage(file):\n",
    "    file = open(file,'r')\n",
    "    for line in file:\n",
    "        total = sum(int(i)for i in line.split(','))\n",
    "        count = len(line.split(','))\n",
    "    return total/count\n",
    "filename ='C:/Users/saipr/Desktop/Internship-l4g/Datasets/marks.txt'\n",
    "getClassAverage(filename)\n",
    "    "
   ]
  },
  {
   "cell_type": "code",
   "execution_count": 18,
   "metadata": {},
   "outputs": [
    {
     "data": {
      "text/plain": [
       "60.0"
      ]
     },
     "execution_count": 18,
     "metadata": {},
     "output_type": "execute_result"
    }
   ],
   "source": [
    "def passPercentage(file):\n",
    "    total = 0\n",
    "    file = open(file,'r')\n",
    "    for line in file:\n",
    "        for i in line.split(','):\n",
    "            if int(i)>40:\n",
    "#                 print(i)           \n",
    "                total += 1\n",
    "        count = len(line.split(','))\n",
    "#         print(count)\n",
    "    return (total/count)*100\n",
    "filename ='C:/Users/saipr/Desktop/Internship-l4g/Datasets/marks.txt'\n",
    "passPercentage(filename)\n",
    "    "
   ]
  },
  {
   "cell_type": "code",
   "execution_count": 19,
   "metadata": {},
   "outputs": [
    {
     "data": {
      "text/plain": [
       "40.0"
      ]
     },
     "execution_count": 19,
     "metadata": {},
     "output_type": "execute_result"
    }
   ],
   "source": [
    "def failPercentage(file):\n",
    "    total = 0\n",
    "    file = open(file,'r')\n",
    "    for line in file:\n",
    "        for i in line.split(','):\n",
    "            if int(i)<40:\n",
    "#                 print(i)           \n",
    "                total += 1\n",
    "        count = len(line.split(','))\n",
    "#         print(count)\n",
    "    return (total/count)*100\n",
    "filename ='C:/Users/saipr/Desktop/Internship-l4g/Datasets/marks.txt'\n",
    "failPercentage(filename)"
   ]
  },
  {
   "cell_type": "code",
   "execution_count": 20,
   "metadata": {},
   "outputs": [
    {
     "data": {
      "text/plain": [
       "23.333333333333332"
      ]
     },
     "execution_count": 20,
     "metadata": {},
     "output_type": "execute_result"
    }
   ],
   "source": [
    "def distinctionPassPercentage(file):\n",
    "    total = 0\n",
    "    file = open(file,'r')\n",
    "    for line in file:\n",
    "        for i in line.split(','):\n",
    "            if int(i)>80:\n",
    "#                 print(i)           \n",
    "                total += 1\n",
    "        count = len(line.split(','))\n",
    "#         print(count)\n",
    "    return (total/count)*100\n",
    "filename ='C:/Users/saipr/Desktop/Internship-l4g/Datasets/marks.txt'\n",
    "distinctionPassPercentage(filename)"
   ]
  },
  {
   "cell_type": "code",
   "execution_count": 21,
   "metadata": {},
   "outputs": [
    {
     "data": {
      "text/plain": [
       "(100, 1)"
      ]
     },
     "execution_count": 21,
     "metadata": {},
     "output_type": "execute_result"
    }
   ],
   "source": [
    "def highMarkFrequency(file):\n",
    "    maxCount = 0\n",
    "    file = open(file,'r')\n",
    "    for line in file:\n",
    "        maxMark=max(int(i) for i in line.split(','))\n",
    "        maxCount+=line.count(str(maxMark))\n",
    "#         print(maxMark)\n",
    "    return maxMark,maxCount\n",
    "filename ='C:/Users/saipr/Desktop/Internship-l4g/Datasets/marks.txt'\n",
    "highMarkFrequency(filename)"
   ]
  },
  {
   "cell_type": "code",
   "execution_count": 22,
   "metadata": {},
   "outputs": [
    {
     "data": {
      "text/plain": [
       "(0, 1)"
      ]
     },
     "execution_count": 22,
     "metadata": {},
     "output_type": "execute_result"
    }
   ],
   "source": [
    "def lessMarkFrequency(file):\n",
    "    minCount = 0\n",
    "    mark = []\n",
    "    file = open(file,'r')\n",
    "    for line in file:\n",
    "        marks = line.split(',')\n",
    "        for i in marks:\n",
    "            mark.append(int(i))\n",
    "        minMark=min(mark)\n",
    "        \n",
    "        minCount = mark.count(minMark) \n",
    "    return minMark,minCount\n",
    "        \n",
    "filename ='C:/Users/saipr/Desktop/Internship-l4g/Datasets/marks.txt'          \n",
    "lessMarkFrequency(filename)"
   ]
  },
  {
   "cell_type": "code",
   "execution_count": 24,
   "metadata": {},
   "outputs": [],
   "source": [
    "def getMarksReport():\n",
    "    filename ='C:/Users/saipr/Desktop/Internship-l4g/Datasets/marks.txt'\n",
    "    file = open('‘MarksReport.txt','w')\n",
    "    file.write('Class Average :')\n",
    "    file.write(str(getClassAverage(filename)))\n",
    "    file.write('\\nPass Percentage :')\n",
    "    file.write(str(passPercentage(filename)))\n",
    "    file.write('\\nFail Percentage :')\n",
    "    file.write(str(failPercentage(filename)))\n",
    "    file.write('\\nDistinction Pass Percentage :')\n",
    "    file.write(str(distinctionPassPercentage(filename)))\n",
    "    file.write('\\nHigh Mark Frequency :')\n",
    "    file.write(str(highMarkFrequency(filename)))\n",
    "    file.write('\\nLess Mark Frequency :')\n",
    "    file.write(str(lessMarkFrequency(filename)))\n",
    "    \n",
    "    \n",
    "    "
   ]
  },
  {
   "cell_type": "code",
   "execution_count": 25,
   "metadata": {},
   "outputs": [],
   "source": [
    "getMarksReport()"
   ]
  },
  {
   "cell_type": "code",
   "execution_count": null,
   "metadata": {},
   "outputs": [],
   "source": []
  }
 ],
 "metadata": {
  "kernelspec": {
   "display_name": "Python 3",
   "language": "python",
   "name": "python3"
  },
  "language_info": {
   "codemirror_mode": {
    "name": "ipython",
    "version": 3
   },
   "file_extension": ".py",
   "mimetype": "text/x-python",
   "name": "python",
   "nbconvert_exporter": "python",
   "pygments_lexer": "ipython3",
   "version": "3.7.4"
  }
 },
 "nbformat": 4,
 "nbformat_minor": 2
}
