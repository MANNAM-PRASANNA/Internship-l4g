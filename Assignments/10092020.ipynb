{
 "cells": [
  {
   "cell_type": "markdown",
   "metadata": {},
   "source": [
    "### File Handling \n",
    "- Character Count\n",
    "- Line Count\n",
    "- File Size\n",
    "- Word Count\n",
    "- Unique Word Count\n"
   ]
  },
  {
   "cell_type": "markdown",
   "metadata": {},
   "source": [
    "1. Character Count"
   ]
  },
  {
   "cell_type": "code",
   "execution_count": 62,
   "metadata": {},
   "outputs": [
    {
     "data": {
      "text/plain": [
       "332"
      ]
     },
     "execution_count": 62,
     "metadata": {},
     "output_type": "execute_result"
    }
   ],
   "source": [
    "def getCharacterCount(file):\n",
    "    charCount = 0\n",
    "    charCount2 = 0\n",
    "    file = open(file,'r')\n",
    "    for line in file:\n",
    "        charCount += len(line) #Including Spaces\n",
    "        charCount2 += len(line.replace(\" \",\"\")) # Excluding Spaces\n",
    "    return charCount2\n",
    "getCharacterCount('myfile.txt')"
   ]
  },
  {
   "cell_type": "markdown",
   "metadata": {},
   "source": [
    "2. Line Count"
   ]
  },
  {
   "cell_type": "code",
   "execution_count": 63,
   "metadata": {},
   "outputs": [
    {
     "data": {
      "text/plain": [
       "3"
      ]
     },
     "execution_count": 63,
     "metadata": {},
     "output_type": "execute_result"
    }
   ],
   "source": [
    "def getLineCount(file):\n",
    "    lineCount = 0\n",
    "    file = open(file,'r')\n",
    "    for line in file:\n",
    "        lineCount +=1\n",
    "    file.close()\n",
    "    return lineCount\n",
    "getLineCount('myfile.txt')"
   ]
  },
  {
   "cell_type": "markdown",
   "metadata": {},
   "source": [
    "3. File Size"
   ]
  },
  {
   "cell_type": "code",
   "execution_count": 64,
   "metadata": {},
   "outputs": [
    {
     "data": {
      "text/plain": [
       "382"
      ]
     },
     "execution_count": 64,
     "metadata": {},
     "output_type": "execute_result"
    }
   ],
   "source": [
    "import os\n",
    "def getFileSize(file):\n",
    "    file_size=os.path.getsize(file)\n",
    "    return file_size\n",
    "getFileSize('myfile.txt')"
   ]
  },
  {
   "cell_type": "markdown",
   "metadata": {},
   "source": [
    "4. Word Count"
   ]
  },
  {
   "cell_type": "code",
   "execution_count": 70,
   "metadata": {},
   "outputs": [
    {
     "name": "stdout",
     "output_type": "stream",
     "text": [
      "['Python', 'is', 'an', 'interpreted,', 'high-level', 'and', 'general-purpose', 'programming', 'language.']\n",
      "['Created', 'by', 'Guido', 'van', 'Rossum', 'and', 'first', 'released', 'in', '1991,', \"Python's\", 'design', 'philosophy', 'emphasizes', 'code', 'readability', 'with', 'its', 'notable', 'use', 'of', 'significant', 'whitespace.']\n",
      "['Its', 'language', 'constructs', 'and', 'object-oriented', 'approach', 'aim', 'to', 'help', 'programmers', 'write', 'clear,', 'logical', 'code', 'for', 'small', 'and', 'large-scale', 'projects.[28]']\n"
     ]
    },
    {
     "data": {
      "text/plain": [
       "51"
      ]
     },
     "execution_count": 70,
     "metadata": {},
     "output_type": "execute_result"
    }
   ],
   "source": [
    "def getWordCount(file):\n",
    "    wordCount = 0\n",
    "    file = open(file,'r')\n",
    "    for line in file:\n",
    "        words = line.split()\n",
    "        wordCount += len(line.split())\n",
    "        print(words)\n",
    "    return wordCount\n",
    "getWordCount('myfile.txt')\n",
    "    "
   ]
  },
  {
   "cell_type": "markdown",
   "metadata": {},
   "source": [
    "5. Unique Word Count"
   ]
  },
  {
   "cell_type": "code",
   "execution_count": 96,
   "metadata": {},
   "outputs": [
    {
     "data": {
      "text/plain": [
       "47"
      ]
     },
     "execution_count": 96,
     "metadata": {},
     "output_type": "execute_result"
    }
   ],
   "source": [
    "def getUniqueWordCount(file):\n",
    "    words = []\n",
    "    file =open(file,'r')\n",
    "    for line in file:\n",
    "        for i in line.split():\n",
    "            words.append(i)\n",
    "#     print(words)\n",
    "    uniqueWordCount = len(set(words))\n",
    "    return uniqueWordCount\n",
    "getUniqueWordCount('myfile.txt')"
   ]
  },
  {
   "cell_type": "markdown",
   "metadata": {},
   "source": [
    "### Marks Analysis\n",
    "    * Class Average\n",
    "    * % of students passed\n",
    "    * % of students failed \n",
    "    * % of students with distinction\n",
    "    * Highest Mark Frequency\n",
    "    * Lowest Mark Frequency\n",
    "*  Generate a Marks report\n"
   ]
  },
  {
   "cell_type": "code",
   "execution_count": 36,
   "metadata": {},
   "outputs": [
    {
     "data": {
      "text/plain": [
       "49.416666666666664"
      ]
     },
     "execution_count": 36,
     "metadata": {},
     "output_type": "execute_result"
    }
   ],
   "source": [
    "def getClassAverage(file):\n",
    "    file = open(file,'r')\n",
    "    for line in file:\n",
    "        total = sum(int(i)for i in line.split(','))\n",
    "        count = len(line.split(','))\n",
    "    return total/count\n",
    "getClassAverage('marks.txt')\n",
    "    "
   ]
  },
  {
   "cell_type": "code",
   "execution_count": 37,
   "metadata": {},
   "outputs": [
    {
     "data": {
      "text/plain": [
       "60.0"
      ]
     },
     "execution_count": 37,
     "metadata": {},
     "output_type": "execute_result"
    }
   ],
   "source": [
    "def passPercentage(file):\n",
    "    total = 0\n",
    "    file = open(file,'r')\n",
    "    for line in file:\n",
    "        for i in line.split(','):\n",
    "            if int(i)>40:\n",
    "#                 print(i)           \n",
    "                total += 1\n",
    "        count = len(line.split(','))\n",
    "#         print(count)\n",
    "    return (total/count)*100\n",
    "passPercentage('marks.txt')\n",
    "    "
   ]
  },
  {
   "cell_type": "code",
   "execution_count": 38,
   "metadata": {},
   "outputs": [
    {
     "data": {
      "text/plain": [
       "40.0"
      ]
     },
     "execution_count": 38,
     "metadata": {},
     "output_type": "execute_result"
    }
   ],
   "source": [
    "def failPercentage(file):\n",
    "    total = 0\n",
    "    file = open(file,'r')\n",
    "    for line in file:\n",
    "        for i in line.split(','):\n",
    "            if int(i)<40:\n",
    "#                 print(i)           \n",
    "                total += 1\n",
    "        count = len(line.split(','))\n",
    "#         print(count)\n",
    "    return (total/count)*100\n",
    "failPercentage('marks.txt')"
   ]
  },
  {
   "cell_type": "code",
   "execution_count": 39,
   "metadata": {},
   "outputs": [
    {
     "data": {
      "text/plain": [
       "23.333333333333332"
      ]
     },
     "execution_count": 39,
     "metadata": {},
     "output_type": "execute_result"
    }
   ],
   "source": [
    "def distinctionPassPercentage(file):\n",
    "    total = 0\n",
    "    file = open(file,'r')\n",
    "    for line in file:\n",
    "        for i in line.split(','):\n",
    "            if int(i)>80:\n",
    "#                 print(i)           \n",
    "                total += 1\n",
    "        count = len(line.split(','))\n",
    "#         print(count)\n",
    "    return (total/count)*100\n",
    "distinctionPassPercentage('marks.txt')"
   ]
  },
  {
   "cell_type": "code",
   "execution_count": 58,
   "metadata": {},
   "outputs": [
    {
     "data": {
      "text/plain": [
       "(100, 1)"
      ]
     },
     "execution_count": 58,
     "metadata": {},
     "output_type": "execute_result"
    }
   ],
   "source": [
    "def highMarkFrequency(file):\n",
    "    maxCount = 0\n",
    "    file = open(file,'r')\n",
    "    for line in file:\n",
    "        maxMark=max(int(i) for i in line.split(','))\n",
    "        maxCount+=line.count(str(maxMark))\n",
    "#         print(maxMark)\n",
    "    return maxMark,maxCount\n",
    "highMarkFrequency('marks.txt')"
   ]
  },
  {
   "cell_type": "code",
   "execution_count": 59,
   "metadata": {},
   "outputs": [
    {
     "data": {
      "text/plain": [
       "(0, 1)"
      ]
     },
     "execution_count": 59,
     "metadata": {},
     "output_type": "execute_result"
    }
   ],
   "source": [
    "def lessMarkFrequency(file):\n",
    "    minCount = 0\n",
    "    mark = []\n",
    "    file = open(file,'r')\n",
    "    for line in file:\n",
    "        marks = line.split(',')\n",
    "        for i in marks:\n",
    "            mark.append(int(i))\n",
    "        minMark=min(mark)\n",
    "        \n",
    "        minCount = mark.count(minMark) \n",
    "    return minMark,minCount\n",
    "        \n",
    "          \n",
    "lessMarkFrequency('marks.txt')"
   ]
  },
  {
   "cell_type": "code",
   "execution_count": 60,
   "metadata": {},
   "outputs": [],
   "source": [
    "def getMarksReport():\n",
    "    file = open('‘MarksReport.txt','w')\n",
    "    file.write('Class Average :')\n",
    "    file.write(str(getClassAverage('marks.txt')))\n",
    "    file.write('\\nPass Percentage :')\n",
    "    file.write(str(passPercentage('marks.txt')))\n",
    "    file.write('\\nFail Percentage :')\n",
    "    file.write(str(failPercentage('marks.txt')))\n",
    "    file.write('\\nDistinction Pass Percentage :')\n",
    "    file.write(str(distinctionPassPercentage('marks.txt')))\n",
    "    file.write('\\nHigh Mark Frequency :')\n",
    "    file.write(str(highMarkFrequency('marks.txt')))\n",
    "    file.write('\\nLess Mark Frequency :')\n",
    "    file.write(str(lessMarkFrequency('marks.txt')))\n",
    "    \n",
    "    \n",
    "    "
   ]
  },
  {
   "cell_type": "code",
   "execution_count": 61,
   "metadata": {},
   "outputs": [],
   "source": [
    "getMarksReport()"
   ]
  },
  {
   "cell_type": "code",
   "execution_count": null,
   "metadata": {},
   "outputs": [],
   "source": []
  }
 ],
 "metadata": {
  "kernelspec": {
   "display_name": "Python 3",
   "language": "python",
   "name": "python3"
  },
  "language_info": {
   "codemirror_mode": {
    "name": "ipython",
    "version": 3
   },
   "file_extension": ".py",
   "mimetype": "text/x-python",
   "name": "python",
   "nbconvert_exporter": "python",
   "pygments_lexer": "ipython3",
   "version": "3.7.4"
  }
 },
 "nbformat": 4,
 "nbformat_minor": 2
}
