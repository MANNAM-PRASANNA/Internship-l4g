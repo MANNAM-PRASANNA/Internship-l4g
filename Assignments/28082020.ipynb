{
 "cells": [
  {
   "cell_type": "markdown",
   "metadata": {},
   "source": [
    "# Basics of Markdown\n",
    "keyboard shortcut M, use # for getting a heading 1"
   ]
  },
  {
   "cell_type": "markdown",
   "metadata": {},
   "source": [
    "### Problem Statement\n",
    "1. Function to print all numbers divisible by 6 and not a factor of 100 in a given range(lb, ub) inclusive"
   ]
  },
  {
   "cell_type": "code",
   "execution_count": 1,
   "metadata": {},
   "outputs": [],
   "source": [
    "def divbysix(lb,ub):\n",
    "    l=[]\n",
    "    for i in range(lb,ub+1):\n",
    "        if(i%6==0 and 100 % i!=0):\n",
    "                l.append(i)                   \n",
    "    return l\n",
    "            "
   ]
  },
  {
   "cell_type": "code",
   "execution_count": 2,
   "metadata": {},
   "outputs": [
    {
     "data": {
      "text/plain": [
       "[6]"
      ]
     },
     "execution_count": 2,
     "metadata": {},
     "output_type": "execute_result"
    }
   ],
   "source": [
    "divbysix(2,10)"
   ]
  },
  {
   "cell_type": "markdown",
   "metadata": {},
   "source": [
    "### Problem Statement\n",
    "2. Function to find the average of cubes of all even numbers in a given range(lb, ub) inclusive"
   ]
  },
  {
   "cell_type": "code",
   "execution_count": 3,
   "metadata": {},
   "outputs": [],
   "source": [
    "def cubeofevens(lb,ub):\n",
    "    sum=0\n",
    "    c=0\n",
    "    for i in range(lb,ub+1):\n",
    "        c+=1\n",
    "        if(i%2==0):\n",
    "            \n",
    "            sum+=i**3\n",
    "    avg=sum/c\n",
    "    return avg"
   ]
  },
  {
   "cell_type": "code",
   "execution_count": 4,
   "metadata": {},
   "outputs": [
    {
     "data": {
      "text/plain": [
       "14.4"
      ]
     },
     "execution_count": 4,
     "metadata": {},
     "output_type": "execute_result"
    }
   ],
   "source": [
    "cubeofevens(1,5)"
   ]
  },
  {
   "cell_type": "markdown",
   "metadata": {},
   "source": [
    "### Problem Statement\n",
    "3. Function to generate the list of factors for a given number"
   ]
  },
  {
   "cell_type": "code",
   "execution_count": 5,
   "metadata": {},
   "outputs": [
    {
     "data": {
      "text/plain": [
       "[1, 2, 5, 10]"
      ]
     },
     "execution_count": 5,
     "metadata": {},
     "output_type": "execute_result"
    }
   ],
   "source": [
    "def listoffactors(num):\n",
    "    factors=[]\n",
    "    for i in range(1,num+1):\n",
    "        if(num % i == 0):\n",
    "            factors.append(i)\n",
    "    return factors\n",
    "listoffactors(10)    "
   ]
  },
  {
   "cell_type": "markdown",
   "metadata": {},
   "source": [
    "### Problem Statement\n",
    "4. Function to calculate the factorial of a given number"
   ]
  },
  {
   "cell_type": "code",
   "execution_count": 6,
   "metadata": {},
   "outputs": [
    {
     "data": {
      "text/plain": [
       "720"
      ]
     },
     "execution_count": 6,
     "metadata": {},
     "output_type": "execute_result"
    }
   ],
   "source": [
    "def factorial(num):\n",
    "    fact = 1\n",
    "    if num==0 or num==1:\n",
    "        return fact\n",
    "    else:\n",
    "        for i in range(2,num+1):\n",
    "            fact=fact *i\n",
    "        return fact\n",
    "factorial(6)       "
   ]
  },
  {
   "cell_type": "markdown",
   "metadata": {},
   "source": [
    "### Problem Statement\n",
    "5. Function to check if a given number is Prime"
   ]
  },
  {
   "cell_type": "code",
   "execution_count": 4,
   "metadata": {},
   "outputs": [
    {
     "data": {
      "text/plain": [
       "False"
      ]
     },
     "execution_count": 4,
     "metadata": {},
     "output_type": "execute_result"
    }
   ],
   "source": [
    "def isprime(num):\n",
    "    c=0\n",
    "    for i in range(1,num+1):\n",
    "        if(num%i==0):\n",
    "            c+=1\n",
    "    if c==2:\n",
    "        return True\n",
    "#         print(\"Is Prime\")\n",
    "\n",
    "    else:\n",
    "        return False\n",
    "#         print(\"Not a Prime\")\n",
    "\n",
    "isprime(10)"
   ]
  },
  {
   "cell_type": "code",
   "execution_count": null,
   "metadata": {},
   "outputs": [],
   "source": []
  },
  {
   "cell_type": "code",
   "execution_count": 21,
   "metadata": {},
   "outputs": [
    {
     "data": {
      "text/plain": [
       "True"
      ]
     },
     "execution_count": 21,
     "metadata": {},
     "output_type": "execute_result"
    }
   ],
   "source": [
    "# def prime(n):\n",
    "#     for i in range(2,n//2+1):\n",
    "#         if n % i == 0:\n",
    "#             return True\n",
    "#     return False\n",
    "# prime(1)\n",
    "\n",
    "import math\n",
    "def prime(n):\n",
    "    for i in range(2, int(math.sqrt(n))):\n",
    "        if n % i == 0:\n",
    "            return False\n",
    "    return True\n",
    "\n",
    "prime(1)\n"
   ]
  },
  {
   "cell_type": "markdown",
   "metadata": {},
   "source": [
    "### Problem Statement\n",
    "6. Function to generate first N Prime numbers"
   ]
  },
  {
   "cell_type": "code",
   "execution_count": 23,
   "metadata": {},
   "outputs": [
    {
     "data": {
      "text/plain": [
       "[2, 3, 5, 7, 11, 13, 17, 19, 23, 29]"
      ]
     },
     "execution_count": 23,
     "metadata": {},
     "output_type": "execute_result"
    }
   ],
   "source": [
    "def getPrimes(n):\n",
    "    countPrimes = 0\n",
    "    start = 2\n",
    "    primes=[]\n",
    "    while(True):\n",
    "        if isprime(start):\n",
    "            countPrimes += 1\n",
    "            primes.append(start)\n",
    "        if countPrimes == n:\n",
    "            break\n",
    "        else:\n",
    "            start += 1\n",
    "    return primes     \n",
    "getPrimes(10)"
   ]
  },
  {
   "cell_type": "markdown",
   "metadata": {},
   "source": [
    "### Problem Statement\n",
    "6. Function to calculate the average first N Prime numbers"
   ]
  },
  {
   "cell_type": "code",
   "execution_count": 5,
   "metadata": {},
   "outputs": [
    {
     "data": {
      "text/plain": [
       "2.5"
      ]
     },
     "execution_count": 5,
     "metadata": {},
     "output_type": "execute_result"
    }
   ],
   "source": [
    "def getPrimes(n):\n",
    "    countPrimes = 0\n",
    "    start = 2\n",
    "    s = 0\n",
    "    while(countPrimes!=n):\n",
    "        if isprime(start):\n",
    "            countPrimes += 1\n",
    "            s += start \n",
    "        start += 1\n",
    "    return s/n   \n",
    "getPrimes(2)"
   ]
  },
  {
   "cell_type": "markdown",
   "metadata": {},
   "source": [
    "### Problem Statement\n",
    "7. Function to generate all Perfect numbers in a given range"
   ]
  },
  {
   "cell_type": "code",
   "execution_count": 11,
   "metadata": {},
   "outputs": [],
   "source": [
    "def isperfect(num):\n",
    "    sum=0\n",
    "    for i in range(1, num):\n",
    "        if(num % i == 0):\n",
    "            sum += i\n",
    "    if (sum == num):\n",
    "        return True\n",
    "    else:\n",
    "        return False\n",
    "    \n",
    "def perfect(lb,ub):\n",
    "    for i in range(lb, ub + 1):\n",
    "        if isperfect(i):\n",
    "            print(i)\n",
    "    "
   ]
  },
  {
   "cell_type": "code",
   "execution_count": 12,
   "metadata": {},
   "outputs": [
    {
     "name": "stdout",
     "output_type": "stream",
     "text": [
      "6\n",
      "28\n"
     ]
    }
   ],
   "source": [
    "perfect(1,100)"
   ]
  },
  {
   "cell_type": "markdown",
   "metadata": {},
   "source": [
    "# Advanced Problems\n",
    "### Problem Statement\n",
    "1. Function to calculate average of all factorials in a given range"
   ]
  },
  {
   "cell_type": "code",
   "execution_count": 2,
   "metadata": {},
   "outputs": [
    {
     "data": {
      "text/plain": [
       "4.0"
      ]
     },
     "execution_count": 2,
     "metadata": {},
     "output_type": "execute_result"
    }
   ],
   "source": [
    "def factorial(num):\n",
    "    fact = 1\n",
    "    if num == 0 or num == 1:\n",
    "        return fact\n",
    "    else:\n",
    "        for i in range(2, num + 1):\n",
    "            fact = fact * i\n",
    "        return fact\n",
    "def avgoffact(lb, ub):\n",
    "    c = 0\n",
    "    sumfact = 0 \n",
    "    for i in range(lb, ub + 1):\n",
    "        c += 1\n",
    "        sumfact = sumfact + factorial(i)\n",
    "#     print(c)\n",
    "    return sumfact/c\n",
    "\n",
    "avgoffact(2,3)"
   ]
  },
  {
   "cell_type": "markdown",
   "metadata": {},
   "source": [
    "### Problem Statement\n",
    "2. Function to generate N odd Armstrong numbers "
   ]
  },
  {
   "cell_type": "code",
   "execution_count": 4,
   "metadata": {},
   "outputs": [
    {
     "data": {
      "text/plain": [
       "[153, 371]"
      ]
     },
     "execution_count": 4,
     "metadata": {},
     "output_type": "execute_result"
    }
   ],
   "source": [
    "def isArmstrong(num):\n",
    "    if num > 999 :\n",
    "        return False\n",
    "    s = 0\n",
    "    for d in str(num):\n",
    "        s += int(d)**3\n",
    "    if s == num:\n",
    "        return True\n",
    "    return False\n",
    "\n",
    "def getOddArmstrongs(n):\n",
    "    countArm = 0\n",
    "    start = 101\n",
    "    oddArms = []\n",
    "    while(countArm != n):\n",
    "        if isArmstrong(start):\n",
    "            oddArms.append(start)\n",
    "            countArm += 1\n",
    "        start += 2\n",
    "    return oddArms\n",
    "\n",
    "getOddArmstrongs(2)           "
   ]
  },
  {
   "cell_type": "markdown",
   "metadata": {},
   "source": [
    "### Problem Statement\n",
    "3. Function to generate Multiplication table for a number in a given range"
   ]
  },
  {
   "cell_type": "code",
   "execution_count": 5,
   "metadata": {},
   "outputs": [],
   "source": [
    "def multable(num,lb,ub):\n",
    "    for i in range(lb,ub + 1):\n",
    "        print(\" {0} * {1} = {2}\".format(num, i, num * i))\n",
    "    "
   ]
  },
  {
   "cell_type": "code",
   "execution_count": 6,
   "metadata": {},
   "outputs": [
    {
     "name": "stdout",
     "output_type": "stream",
     "text": [
      " 2 * 1 = 2\n",
      " 2 * 2 = 4\n",
      " 2 * 3 = 6\n",
      " 2 * 4 = 8\n",
      " 2 * 5 = 10\n",
      " 2 * 6 = 12\n"
     ]
    }
   ],
   "source": [
    "multable(2,1,6)"
   ]
  },
  {
   "cell_type": "markdown",
   "metadata": {},
   "source": [
    "### Problem Statement\n",
    "<ul><li> Function to generate N odd Narcissistic numbers. </li><ul>"
   ]
  },
  {
   "cell_type": "code",
   "execution_count": 7,
   "metadata": {},
   "outputs": [
    {
     "data": {
      "text/plain": [
       "[1, 3]"
      ]
     },
     "execution_count": 7,
     "metadata": {},
     "output_type": "execute_result"
    }
   ],
   "source": [
    "def isNarcissistic(num,power):\n",
    "    s = 0\n",
    "    temp = num \n",
    "    while temp > 0:\n",
    "        digit = temp % 10\n",
    "        s += digit ** power\n",
    "        temp //= 10\n",
    "    if s == num:\n",
    "        return True\n",
    "    return False\n",
    "\n",
    "def getOddNarcissistic(n):\n",
    "    countArm = 0\n",
    "    start = 1\n",
    "    power = len(str(start))\n",
    "    narcissisticNums = []\n",
    "    while(countArm != n):\n",
    "        if isNarcissistic(start,power):\n",
    "            narcissisticNums.append(start)\n",
    "            countArm += 1\n",
    "        start +=  2\n",
    "    return narcissisticNums\n",
    "\n",
    "getOddNarcissistic(2)"
   ]
  },
  {
   "cell_type": "markdown",
   "metadata": {},
   "source": [
    "### Problem Statement\n",
    "\n",
    "<ul><li>Program to generate Narcissistic Numbers in the Given Range</li></ul>"
   ]
  },
  {
   "cell_type": "code",
   "execution_count": 8,
   "metadata": {},
   "outputs": [
    {
     "data": {
      "text/plain": [
       "[2, 3, 4, 5, 6, 7, 8, 9]"
      ]
     },
     "execution_count": 8,
     "metadata": {},
     "output_type": "execute_result"
    }
   ],
   "source": [
    "def getNarcissistic(lb,ub):\n",
    "    narcissisticNums = []\n",
    "    for i in range(lb,ub+1):\n",
    "        power = len(str(i))\n",
    "        if isNarcissistic(i,power):            \n",
    "            narcissisticNums.append(i)\n",
    "    return narcissisticNums\n",
    "getNarcissistic(2,100)    "
   ]
  }
 ],
 "metadata": {
  "kernelspec": {
   "display_name": "Python 3",
   "language": "python",
   "name": "python3"
  },
  "language_info": {
   "codemirror_mode": {
    "name": "ipython",
    "version": 3
   },
   "file_extension": ".py",
   "mimetype": "text/x-python",
   "name": "python",
   "nbconvert_exporter": "python",
   "pygments_lexer": "ipython3",
   "version": "3.7.4"
  }
 },
 "nbformat": 4,
 "nbformat_minor": 2
}
