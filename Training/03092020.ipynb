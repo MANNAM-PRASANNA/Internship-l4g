{
 "cells": [
  {
   "cell_type": "markdown",
   "metadata": {},
   "source": [
    "### Regular Expression Tester\n",
    "\n",
    "- https://www.regexpal.com/"
   ]
  },
  {
   "cell_type": "markdown",
   "metadata": {},
   "source": [
    "/[a-z]/g\n",
    "- checks given character is in a to z\n",
    "\n",
    "/^[a-z]/g\n",
    "- check wheather 1st char is in a to z\n",
    "\n",
    "/^[1-4]$/g\n",
    "- check both end and start is in given range\n",
    "\n",
    "\n",
    "/^[0-9]{3}$/g\n",
    "- check for 3 digits numbers\n",
    "\n",
    "/^[p][y][t][h][o][n]$/g\n",
    "- check exact word (python)\n",
    "\n",
    "/^[p][y][t][h][o][n]/g\n",
    "- check for the word at starting\n",
    "\n",
    "/^[a].*/g\n",
    "- check for words starting with 'a'\n",
    "\n",
    "/^[a]...$/g\n",
    "- checks for 4letter(3dots and a) works starts with a\n",
    "\n",
    "/^[a-z]{5}$/g\n",
    "- check for alphabetical 5 letter words\n",
    "\n",
    "/^[0-9]*$/g\n",
    "- check for words with on numerical\n",
    "\n",
    "/^[a-z]*$/g\n",
    "- check for only alphabetical words"
   ]
  },
  {
   "cell_type": "markdown",
   "metadata": {},
   "source": [
    "### Cheat Sheet\n",
    "## Character classes\n",
    "1. .\tany character except newline\n",
    "    - \\w \\d \\s\tword, digit, whitespace\n",
    "    - \\W \\D \\S\tnot word, digit, whitespace\n",
    "    - [abc]\tany of a, b, or c\n",
    "    - [^abc]\tnot a, b, or c\n",
    "    - [a-g]\tcharacter between a & g\n",
    "2. Anchors\n",
    "    - ^abc$\tstart / end of the string\n",
    "    - \\b\tword boundary\n",
    "3. Escaped characters\n",
    "    - \\. \\* \\\\\tescaped special characters\n",
    "    - \\t \\n \\r\ttab, linefeed, carriage return\n",
    "    - \\u00A9\tunicode escaped ©\n",
    "4. Groups & Lookaround\n",
    "    - (abc)\tcapture group\n",
    "    - \\1\tbackreference to group #1\n",
    "    - (?:abc)\tnon-capturing group\n",
    "    - (?=abc)\tpositive lookahead\n",
    "    - (?!abc)\tnegative lookahead\n",
    "5. Quantifiers & Alternation\n",
    "    - a* a+ a?\t0 or more, 1 or more, 0 or 1\n",
    "    - a{5} a{2,}\texactly five, two or more\n",
    "    - a{1,3}\tbetween one & three\n",
    "    - a+? a{2,}?\tmatch as few as possible\n",
    "    - ab|cd\tmatch ab or cd\n"
   ]
  },
  {
   "cell_type": "markdown",
   "metadata": {},
   "source": [
    "# Regular Expressions\n",
    "- https://docs.python.org/3.4/library/re.html"
   ]
  },
  {
   "cell_type": "code",
   "execution_count": 1,
   "metadata": {},
   "outputs": [],
   "source": [
    "import re\n"
   ]
  }
 ],
 "metadata": {
  "kernelspec": {
   "display_name": "Python 3",
   "language": "python",
   "name": "python3"
  },
  "language_info": {
   "codemirror_mode": {
    "name": "ipython",
    "version": 3
   },
   "file_extension": ".py",
   "mimetype": "text/x-python",
   "name": "python",
   "nbconvert_exporter": "python",
   "pygments_lexer": "ipython3",
   "version": "3.7.4"
  }
 },
 "nbformat": 4,
 "nbformat_minor": 2
}
